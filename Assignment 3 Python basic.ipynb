{
 "cells": [
  {
   "cell_type": "markdown",
   "id": "a3a8c221",
   "metadata": {},
   "source": [
    "#Answer1"
   ]
  },
  {
   "cell_type": "code",
   "execution_count": null,
   "id": "6d498267",
   "metadata": {},
   "outputs": [],
   "source": [
    "Function makes a program to easier to code, shorter and easier to update."
   ]
  },
  {
   "cell_type": "markdown",
   "id": "7ff15430",
   "metadata": {},
   "source": [
    "#Answer2"
   ]
  },
  {
   "cell_type": "code",
   "execution_count": null,
   "id": "6acb07bd",
   "metadata": {},
   "outputs": [],
   "source": [
    "The code in a function run when it is called, not when it is defined."
   ]
  },
  {
   "cell_type": "markdown",
   "id": "6263a994",
   "metadata": {},
   "source": [
    "#Answer3"
   ]
  },
  {
   "cell_type": "code",
   "execution_count": null,
   "id": "ed6802a3",
   "metadata": {},
   "outputs": [],
   "source": [
    "The \"def\" function defines/creates a function."
   ]
  },
  {
   "cell_type": "markdown",
   "id": "174269cc",
   "metadata": {},
   "source": [
    "#Answer4"
   ]
  },
  {
   "cell_type": "code",
   "execution_count": null,
   "id": "087a16b9",
   "metadata": {},
   "outputs": [],
   "source": [
    "A function consists of the \"def\" statement and the code in its clause.\n",
    "A function call is what moves the program execution into the function and returns the value."
   ]
  },
  {
   "cell_type": "markdown",
   "id": "0c9a63b8",
   "metadata": {},
   "source": [
    "#Answer5"
   ]
  },
  {
   "cell_type": "code",
   "execution_count": null,
   "id": "37444d95",
   "metadata": {},
   "outputs": [],
   "source": [
    "There is one global scope and one local scope created whenever a function is called."
   ]
  },
  {
   "cell_type": "markdown",
   "id": "fac9ca05",
   "metadata": {},
   "source": [
    "#Answer6"
   ]
  },
  {
   "cell_type": "code",
   "execution_count": null,
   "id": "4c46d7bd",
   "metadata": {},
   "outputs": [],
   "source": [
    "When a function returns, the variable in the local scope gets destroyed/forgotten."
   ]
  },
  {
   "cell_type": "markdown",
   "id": "cb4d2e1e",
   "metadata": {},
   "source": [
    "#Answer7"
   ]
  },
  {
   "cell_type": "code",
   "execution_count": null,
   "id": "a790dbbc",
   "metadata": {},
   "outputs": [],
   "source": [
    "A return value is the outcome of a function call. It can be used as a part of expression."
   ]
  },
  {
   "cell_type": "markdown",
   "id": "b49e535d",
   "metadata": {},
   "source": [
    "#Answer8"
   ]
  },
  {
   "cell_type": "code",
   "execution_count": null,
   "id": "b1a16c55",
   "metadata": {},
   "outputs": [],
   "source": [
    "The return value of a function with no return statement is None."
   ]
  },
  {
   "cell_type": "markdown",
   "id": "f56f4bba",
   "metadata": {},
   "source": [
    "#Answer9"
   ]
  },
  {
   "cell_type": "code",
   "execution_count": null,
   "id": "90ef596f",
   "metadata": {},
   "outputs": [],
   "source": [
    "A global statement will force a function variable refer to the global variable."
   ]
  },
  {
   "cell_type": "markdown",
   "id": "ec32c304",
   "metadata": {},
   "source": [
    "#Answer10"
   ]
  },
  {
   "cell_type": "code",
   "execution_count": null,
   "id": "faab4e0a",
   "metadata": {},
   "outputs": [],
   "source": [
    "The data type of None is None type"
   ]
  },
  {
   "cell_type": "markdown",
   "id": "9b83a695",
   "metadata": {},
   "source": [
    "#Answer11"
   ]
  },
  {
   "cell_type": "code",
   "execution_count": null,
   "id": "242e51d2",
   "metadata": {},
   "outputs": [],
   "source": [
    "The import statement imports the module areallyourpetsnamederic."
   ]
  },
  {
   "cell_type": "markdown",
   "id": "b8a09ff7",
   "metadata": {},
   "source": [
    "#Answer12"
   ]
  },
  {
   "cell_type": "code",
   "execution_count": null,
   "id": "eb41d98f",
   "metadata": {},
   "outputs": [],
   "source": [
    "spam.bacon()"
   ]
  },
  {
   "cell_type": "markdown",
   "id": "737fff49",
   "metadata": {},
   "source": [
    "#Answer13"
   ]
  },
  {
   "cell_type": "code",
   "execution_count": null,
   "id": "48d23892",
   "metadata": {},
   "outputs": [],
   "source": [
    "The line of code that might cause an error needs to be placed in the try clause"
   ]
  },
  {
   "cell_type": "markdown",
   "id": "197de158",
   "metadata": {},
   "source": [
    "#Answer14"
   ]
  },
  {
   "cell_type": "code",
   "execution_count": null,
   "id": "6791cd91",
   "metadata": {},
   "outputs": [],
   "source": [
    "The code that could potentially cause an error goes in the try clause.\n",
    "The code that executes if an error happens goes in the except clause."
   ]
  }
 ],
 "metadata": {
  "kernelspec": {
   "display_name": "Python 3 (ipykernel)",
   "language": "python",
   "name": "python3"
  },
  "language_info": {
   "codemirror_mode": {
    "name": "ipython",
    "version": 3
   },
   "file_extension": ".py",
   "mimetype": "text/x-python",
   "name": "python",
   "nbconvert_exporter": "python",
   "pygments_lexer": "ipython3",
   "version": "3.9.7"
  }
 },
 "nbformat": 4,
 "nbformat_minor": 5
}
